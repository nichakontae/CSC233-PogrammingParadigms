{
  "nbformat": 4,
  "nbformat_minor": 0,
  "metadata": {
    "colab": {
      "name": "Python_basics01.ipynb",
      "provenance": [],
      "collapsed_sections": []
    },
    "kernelspec": {
      "name": "python3",
      "display_name": "Python 3"
    },
    "language_info": {
      "name": "python"
    }
  },
  "cells": [
    {
      "cell_type": "code",
      "execution_count": null,
      "metadata": {
        "colab": {
          "base_uri": "https://localhost:8080/"
        },
        "id": "XW9_QNVfPvE0",
        "outputId": "02598c28-4480-4465-8efa-0485e9150e74"
      },
      "outputs": [
        {
          "output_type": "stream",
          "name": "stdout",
          "text": [
            "Hello World!\n",
            "5.666666666666667\n",
            "Value is:  5.666666666666667\n",
            "Value is 5.667\n",
            "Value is also 5.666666666666667\n",
            "Value is also 5.666666666666667\n",
            "5\n",
            "Modulo value is: 2\n",
            "Value is:  25\n",
            "0.054\n",
            "9\n",
            "False\n",
            "Value is:  doesn't\n",
            "Value is:  doesn't\n"
          ]
        }
      ],
      "source": [
        "\n",
        "# SIT@KMUTT\n",
        "# 17 Feb. 2022\n",
        "# By PM\n",
        "\n",
        "# Some example code from Python.org\n",
        "\n",
        "a = \"Hello World!\"\n",
        "print(a)\n",
        "type(a)\n",
        "\n",
        "# dynamic typing\n",
        "a = 17 / 3  # classic division returns a float\n",
        "print(a)\n",
        "type(a)\n",
        "\n",
        "# different ways to print\n",
        "print(\"Value is: \", a)\n",
        "print(\"Value is %.3f\" %a) # using String modulo operator(%) \n",
        "print(\"Value is also {0}\".format(a)) # using the format method\n",
        "print(\"Value is also {val}\".format(val = a)) # using the format method\n",
        "      \n",
        "b = 17 // 3  # floor division discards the fractional part\n",
        "print(b)\n",
        "var = 17 % 3  # the % operator returns the remainder of the division\n",
        "print(\"Modulo value is:\", var)\n",
        "\n",
        "a = 5 ** 2  # 5 squared; ** is used for power\n",
        "print(\"Value is: \", a)\n",
        "b = 5.4e-2 # scientific notation\n",
        "print(b)\n",
        "\n",
        "# binary number\n",
        "p = 0b1010\n",
        "int(str('0b1010'), base= 2) # turn a binary string into integer\n",
        "\n",
        "q = 0b0011\n",
        "r = p^q  # bit-wise XOR\n",
        "print(r) # print an integer, by default\n",
        "bin(r)  # to get a binary number\n",
        "\n",
        "bin(p&q) # bit-wise and\n",
        "\n",
        "# Boolean and logical AND, OR\n",
        "True and True\n",
        "bol = False or False\n",
        "print(bol)\n",
        "\n",
        "a = 'doesn\\'t'  # use \\' to escape the single quote.\n",
        "print(\"Value is: \", a)\n",
        "a = \"doesn't\"  # ...or use double quotes instead\n",
        "print(\"Value is: \", a)\n"
      ]
    },
    {
      "cell_type": "code",
      "source": [
        "a = 3 * 'on' + 'ion'\n",
        "print(\"Value is: \", a)\n",
        "\n",
        "# if statement\n",
        "the_world_is_flat = True\n",
        "if the_world_is_flat:\n",
        "    print(\"Be careful not to fall off!\")\n",
        "    print(\"Done...\", \"\\n\")\n",
        "\n",
        "word = 'Is Python all the answer to everything?'\n",
        "print(word)\n",
        "print(\"Length is \", len(word))\n",
        "\n",
        "a = word[0]\n",
        "print(\"First value (0th index) is: \", a)\n",
        "a = word[3:7]\n",
        "print(\"3rd to 6th indexed values are: \", a)\n",
        "a = len(a)\n",
        "print(\"Its length is: \", a)\n",
        "\n",
        "# for loop\n",
        "print(\"\\nFor Loop\")\n",
        "for i in word:\n",
        "  print(i, sep= \" \", end=\"\")"
      ],
      "metadata": {
        "colab": {
          "base_uri": "https://localhost:8080/"
        },
        "id": "nQ6FxvMPQj-z",
        "outputId": "685e8fe3-0caf-40e1-f983-3d468cb79db8"
      },
      "execution_count": null,
      "outputs": [
        {
          "output_type": "stream",
          "name": "stdout",
          "text": [
            "Value is:  onononion\n",
            "Be careful not to fall off!\n",
            "Done... \n",
            "\n",
            "Is Python all the answer to everything?\n",
            "Length is  39\n",
            "First value is:  I\n",
            "3rd to 6th values are:  Pyth\n",
            "Its length is:  4\n",
            "\n",
            "For Loop\n",
            "Is Python all the answer to everything?"
          ]
        }
      ]
    },
    {
      "cell_type": "code",
      "source": [
        "numbers = [2, 4, 6, 8]  # a list\n",
        "print(type(numbers))\n",
        "\n",
        "product = 1\n",
        "for number in numbers:\n",
        "    product = product * number\n",
        "\n",
        "print('The product is:', product)\n",
        "\n",
        "# define a function\n",
        "def fib(n):\n",
        "    a, b = 0, 1\n",
        "    while a < n:\n",
        "        print(a, end=' ')\n",
        "        a, b = b, a+ b\n",
        "    print()\n",
        "\n",
        "fib(80)\n",
        "\n",
        "# Done!\n"
      ],
      "metadata": {
        "colab": {
          "base_uri": "https://localhost:8080/"
        },
        "id": "y3OG0Jw2Qfr1",
        "outputId": "0daf9470-a5ce-4839-b360-2bef718ee4c1"
      },
      "execution_count": null,
      "outputs": [
        {
          "output_type": "stream",
          "name": "stdout",
          "text": [
            "<class 'list'>\n",
            "The product is: 384\n",
            "0 1 1 2 3 5 8 13 21 34 55 \n"
          ]
        }
      ]
    }
  ]
}