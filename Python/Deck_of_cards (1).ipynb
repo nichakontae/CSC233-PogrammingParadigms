{
  "nbformat": 4,
  "nbformat_minor": 0,
  "metadata": {
    "colab": {
      "name": "Deck_of_cards.ipynb",
      "provenance": [],
      "collapsed_sections": []
    },
    "kernelspec": {
      "name": "python3",
      "display_name": "Python 3"
    },
    "language_info": {
      "name": "python"
    }
  },
  "cells": [
    {
      "cell_type": "markdown",
      "source": [
        "CSC233, SIT@KMUTT\n",
        "\n",
        "Feb. 2022\n",
        "\n",
        "By PM\n",
        "\n",
        "Python basics with an application of playing cards"
      ],
      "metadata": {
        "id": "TDmBw6qm2Pqt"
      }
    },
    {
      "cell_type": "code",
      "execution_count": 42,
      "metadata": {
        "colab": {
          "base_uri": "https://localhost:8080/"
        },
        "id": "rFiuGVnHjk-B",
        "outputId": "791aea7a-5756-4cb5-ffe9-1532062371a2"
      },
      "outputs": [
        {
          "output_type": "stream",
          "name": "stdout",
          "text": [
            "52\n",
            "[('ace', 'spade'), ('ace', 'heart'), ('ace', 'diamond'), ('ace', 'club'), ('2', 'spade'), ('2', 'heart'), ('2', 'diamond'), ('2', 'club'), ('3', 'spade'), ('3', 'heart'), ('3', 'diamond'), ('3', 'club'), ('4', 'spade'), ('4', 'heart'), ('4', 'diamond'), ('4', 'club'), ('5', 'spade'), ('5', 'heart'), ('5', 'diamond'), ('5', 'club'), ('6', 'spade'), ('6', 'heart'), ('6', 'diamond'), ('6', 'club'), ('7', 'spade'), ('7', 'heart'), ('7', 'diamond'), ('7', 'club'), ('8', 'spade'), ('8', 'heart'), ('8', 'diamond'), ('8', 'club'), ('9', 'spade'), ('9', 'heart'), ('9', 'diamond'), ('9', 'club'), ('10', 'spade'), ('10', 'heart'), ('10', 'diamond'), ('10', 'club'), ('jack', 'spade'), ('jack', 'heart'), ('jack', 'diamond'), ('jack', 'club'), ('queen', 'spade'), ('queen', 'heart'), ('queen', 'diamond'), ('queen', 'club'), ('king', 'spade'), ('king', 'heart'), ('king', 'diamond'), ('king', 'club')]\n",
            "We have found  50  occurences. Done!\n",
            "5e-05\n"
          ]
        }
      ],
      "source": [
        "import random\n",
        "import itertools\n",
        "\n",
        "# To generate a deck of playing card\n",
        "vals = ('ace', '2', '3', '4', '5', '6', '7', '8', '9', '10', 'jack', 'queen', 'king')\n",
        "suits = ('spade', 'heart', 'diamond', 'club')\n",
        "\n",
        "card_deck = itertools.product(vals,suits)  # do a cartesian product -> list\n",
        "# cartesian product such as ('ace','spade'),('ace','heart'), ('ace','diamond'),('ace','club')\n",
        "\n",
        "clist = []  # empty list\n",
        "for i in card_deck:\n",
        "  # print(i)\n",
        "  # put value of cartesian product in clist\n",
        "  clist.append(i)\n",
        "\n",
        "# Check the card deck to see if completed\n",
        "print(len(clist)) \n",
        "# length of cartesian product it will be 52 \n",
        "print(clist)\n",
        "\n",
        "# Do a random 4-card selection for a large number of times\n",
        "# set seed outside for loop if you want the same value with another time\n",
        "count = 0\n",
        "for i in range(0, 1000000):\n",
        "  # if range(1,10) -> the result will be 1-9\n",
        "  # if you want 10 value you will be set range(0,10) or range(1,11)\n",
        "  four_cards = random.sample(clist, k = 4) \n",
        "  # variable four_cards is the list \n",
        "\n",
        "  # random 4-card from cartesian product repeat this step 1 milion times\n",
        "  # print(four_cards)\n",
        "  first = [] # empty list\n",
        "  for j in four_cards:\n",
        "    first.append(j[0]) \n",
        "    # j[o] -> 13 number  || j[1] -> suit\n",
        "    # print(first)\n",
        "  lenght_of_set = len(set(first))\n",
        "  # print(lenght_of_set)\n",
        "  if lenght_of_set == 1: \n",
        "    # it means the same value  whatever it has many but if value is the same it will be count just 1 \n",
        "    print(\"Found four cards of the same values!\")\n",
        "    count += 1\n",
        "    print(four_cards)\n",
        "\n",
        "print(\"We have found \", count, \" occurences. Done!\")\n",
        "print(count/1000000)\n",
        "# value of probability is around _._e-05 which is close to 4.8e-05 is answer of (13 choose 1)/(52 choose 4)\n",
        "# value in front of point('.') around 3-6 (statistics that I run is value around this ) but every time value of e is -05 every time!\n",
        "\n",
        "\n",
        "\n",
        "# Compare the result with theoretical probability (what we had learned in CSC165 Discrete Math last semester).\n",
        "# Is it around (13 choose 1)/(52 choose 4)? -> answer of this is around 0.00004802 -> 4.8e-05\n"
      ]
    },
    {
      "cell_type": "code",
      "source": [
        "# Extra note on set a seed for a random generator\n",
        "\n",
        "random.seed(234)\n",
        "random.sample(range(1,10), k=3)\n",
        "# vals = range(1,10)\n",
        "for  i in range(1,11):\n",
        "  print(i)"
      ],
      "metadata": {
        "colab": {
          "base_uri": "https://localhost:8080/"
        },
        "id": "yhaupNTstxf5",
        "outputId": "a46ea731-db78-42ca-be84-27408a6d5e64"
      },
      "execution_count": 18,
      "outputs": [
        {
          "output_type": "stream",
          "name": "stdout",
          "text": [
            "1\n",
            "2\n",
            "3\n",
            "4\n",
            "5\n",
            "6\n",
            "7\n",
            "8\n",
            "9\n",
            "10\n"
          ]
        }
      ]
    }
  ]
}